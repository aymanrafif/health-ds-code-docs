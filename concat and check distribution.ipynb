{
 "cells": [
  {
   "cell_type": "code",
   "execution_count": 59,
   "metadata": {},
   "outputs": [],
   "source": [
    "import pandas as pd\n",
    "import numpy as np\n",
    "import matplotlib.pyplot as plt\n",
    "import seaborn as sns"
   ]
  },
  {
   "cell_type": "markdown",
   "metadata": {},
   "source": [
    "# Data Prep"
   ]
  },
  {
   "cell_type": "markdown",
   "metadata": {},
   "source": [
    "## Import Data"
   ]
  },
  {
   "cell_type": "markdown",
   "metadata": {},
   "source": [
    "### 2013 - 2015"
   ]
  },
  {
   "cell_type": "code",
   "execution_count": 60,
   "metadata": {},
   "outputs": [],
   "source": [
    "df_1315_ip = pd.read_excel('data/SC_13-15_IP.xlsx')\n",
    "df_1315_ma = pd.read_excel('data/SC_13-15_MA.xlsx')"
   ]
  },
  {
   "cell_type": "code",
   "execution_count": 61,
   "metadata": {},
   "outputs": [],
   "source": [
    "df_1315_ip['ProductType'] = \"IP\"\n",
    "df_1315_ma['ProductType'] = \"MA\""
   ]
  },
  {
   "cell_type": "code",
   "execution_count": 62,
   "metadata": {},
   "outputs": [
    {
     "data": {
      "text/plain": [
       "Index(['Date', 'ClaimNo', 'MemberNo', 'ClientName', 'GROUP', 'ClaimType',\n",
       "       'TreatmentPlace', 'TreatmentRoomClass', 'RoomOption',\n",
       "       'PrimaryDiagnosis', 'LOS', 'ClaimPaidNoteAmount', 'isPrePost',\n",
       "       'ProductType'],\n",
       "      dtype='object')"
      ]
     },
     "execution_count": 62,
     "metadata": {},
     "output_type": "execute_result"
    }
   ],
   "source": [
    "df_1315_ip.columns"
   ]
  },
  {
   "cell_type": "code",
   "execution_count": 63,
   "metadata": {},
   "outputs": [
    {
     "data": {
      "text/plain": [
       "Index(['Date', 'ClaimNo', 'MemberNo', 'ClientName', 'GROUP', 'ClaimType',\n",
       "       'TreatmentPlace', 'TreatmentRoomClass', 'RoomOption',\n",
       "       'PrimaryDiagnosis', 'LOS', 'ClaimPaidNoteAmount', 'isPrePost',\n",
       "       'ProductType'],\n",
       "      dtype='object')"
      ]
     },
     "execution_count": 63,
     "metadata": {},
     "output_type": "execute_result"
    }
   ],
   "source": [
    "df_1315_ma.columns"
   ]
  },
  {
   "cell_type": "markdown",
   "metadata": {},
   "source": [
    "### 2016 - 2018"
   ]
  },
  {
   "cell_type": "code",
   "execution_count": 64,
   "metadata": {},
   "outputs": [],
   "source": [
    "df_1618_ip = pd.read_excel('data/SC 2016-2018 IP - Updated 8 May 2024.xlsx')\n",
    "df_1618_ma = pd.read_excel('data/SC 2016-2018 MA - Updated 8 May 2024.xlsx')"
   ]
  },
  {
   "cell_type": "code",
   "execution_count": 65,
   "metadata": {},
   "outputs": [],
   "source": [
    "df_1618_ip['ProductType'] = \"IP\"\n",
    "df_1618_ma['ProductType'] = \"MA\""
   ]
  },
  {
   "cell_type": "markdown",
   "metadata": {},
   "source": [
    "### 2019 - 2023"
   ]
  },
  {
   "cell_type": "code",
   "execution_count": 163,
   "metadata": {},
   "outputs": [],
   "source": [
    "df_19 = pd.read_excel('data/Copy of SC 2019-2023.xlsx', sheet_name=\"2019\")\n",
    "df_20 = pd.read_excel('data/Copy of SC 2019-2023.xlsx', sheet_name=\"2020\")\n",
    "df_21 = pd.read_excel('data/Copy of SC 2019-2023.xlsx', sheet_name=\"2021\")\n",
    "df_22 = pd.read_excel('data/Copy of SC 2019-2023.xlsx', sheet_name=\"2022\")\n",
    "df_23 = pd.read_excel('data/Copy of SC 2019-2023.xlsx', sheet_name=\"2023\")"
   ]
  },
  {
   "cell_type": "code",
   "execution_count": 164,
   "metadata": {},
   "outputs": [
    {
     "data": {
      "text/plain": [
       "Index(['Date', 'ClaimNo', 'MemberNo', 'ClientName', 'GROUP', 'ClaimType',\n",
       "       'TreatmentPlace', 'TreatmentRoomClass', 'RoomOption',\n",
       "       'PrimaryDiagnosis', 'PrimaryTreatmentCategory', 'LOS',\n",
       "       'ClaimPaidNoteAmount', 'isPrePost', 'ProductType', 'COVID/NON COVID'],\n",
       "      dtype='object')"
      ]
     },
     "execution_count": 164,
     "metadata": {},
     "output_type": "execute_result"
    }
   ],
   "source": [
    "df_19 = df_19.rename(columns={\"Product-2\":'ProductType'})\n",
    "df_19 = df_19.rename(columns={\"Primary Treatment Category\":'PrimaryTreatmentCategory'})\n",
    "df_19['COVID/NON COVID'] = np.nan\n",
    "df_19.columns"
   ]
  },
  {
   "cell_type": "code",
   "execution_count": 165,
   "metadata": {},
   "outputs": [
    {
     "data": {
      "text/plain": [
       "Index(['Date', 'ClaimNo', 'MemberNo', 'ClientName', 'GROUP', 'ClaimType',\n",
       "       'TreatmentPlace', 'TreatmentRoomClass', 'RoomOption',\n",
       "       'PrimaryDiagnosis', 'PrimaryTreatmentCategory', 'LOS',\n",
       "       'ClaimPaidNoteAmount', 'isPrePost', 'COVID/NON COVID', 'ProductType'],\n",
       "      dtype='object')"
      ]
     },
     "execution_count": 165,
     "metadata": {},
     "output_type": "execute_result"
    }
   ],
   "source": [
    "df_20 = df_20.rename(columns={\"Product-2\":'ProductType'})\n",
    "df_20 = df_20.rename(columns={\"Primary Treatment Category\":'PrimaryTreatmentCategory'})\n",
    "df_20.columns"
   ]
  },
  {
   "cell_type": "code",
   "execution_count": 166,
   "metadata": {},
   "outputs": [
    {
     "data": {
      "text/plain": [
       "Index(['Date', 'ClaimNo', 'MemberNo', 'ClientName', 'GROUP', 'ClaimType',\n",
       "       'TreatmentPlace', 'TreatmentRoomClass', 'RoomOption',\n",
       "       'PrimaryDiagnosis', 'PrimaryTreatmentCategory', 'LOS',\n",
       "       'ClaimPaidNoteAmount', 'isPrePost', 'COVID/NON COVID', 'ProductType'],\n",
       "      dtype='object')"
      ]
     },
     "execution_count": 166,
     "metadata": {},
     "output_type": "execute_result"
    }
   ],
   "source": [
    "df_21 = df_21.rename(columns={\"Product-2\":'ProductType'})\n",
    "df_21 = df_21.rename(columns={\"Primary Treatment Category\":'PrimaryTreatmentCategory'})\n",
    "df_21 = df_21.rename(columns={\"is Pre Post\":'isPrePost'})\n",
    "df_21 = df_21.rename(columns={\"Claim Paid Note Amount\":'ClaimPaidNoteAmount'})\n",
    "df_21 = df_21.rename(columns={\"Claim No\":'ClaimNo'})\n",
    "df_21 = df_21.rename(columns={\"Member No\":'MemberNo'})\n",
    "df_21 = df_21.rename(columns={\"Client Name\":'ClientName'})\n",
    "df_21 = df_21.rename(columns={\"Client Type\":'ClientType'})\n",
    "df_21 = df_21.rename(columns={\"Claim Type\":'ClaimType'})\n",
    "df_21 = df_21.rename(columns={\"Treatment Place\":'TreatmentPlace'})\n",
    "df_21 = df_21.rename(columns={\"Treatment Room Class\":'TreatmentRoomClass'})\n",
    "df_21 = df_21.rename(columns={\"Room Option\":'RoomOption'})\n",
    "df_21 = df_21.drop(columns='Unnamed: 16')\n",
    "df_21 = df_21.drop(columns='Product-2.1')\n",
    "df_21.columns"
   ]
  },
  {
   "cell_type": "code",
   "execution_count": 167,
   "metadata": {},
   "outputs": [
    {
     "data": {
      "text/plain": [
       "Index(['Date', 'ClaimNo', 'MemberNo', 'ClientName', 'GROUP', 'ClaimType',\n",
       "       'TreatmentPlace', 'TreatmentRoomClass', 'RoomOption',\n",
       "       'PrimaryDiagnosis', 'PrimaryTreatmentCategory', 'LOS',\n",
       "       'ClaimPaidNoteAmount', 'isPrePost', 'COVID/NON COVID', 'ProductType'],\n",
       "      dtype='object')"
      ]
     },
     "execution_count": 167,
     "metadata": {},
     "output_type": "execute_result"
    }
   ],
   "source": [
    "df_22 = df_22.rename(columns={\"Product-2\":'ProductType'})\n",
    "df_22 = df_22.rename(columns={\"MedicalTreatment Category\":'PrimaryTreatmentCategory'})\n",
    "df_22.columns"
   ]
  },
  {
   "cell_type": "code",
   "execution_count": 168,
   "metadata": {},
   "outputs": [
    {
     "data": {
      "text/plain": [
       "Index(['Date', 'ClaimNo', 'MemberNo', 'ClientName', 'GROUP', 'ClaimType',\n",
       "       'TreatmentPlace', 'TreatmentRoomClass', 'RoomOption',\n",
       "       'PrimaryDiagnosis', 'PrimaryTreatmentCategory', 'LOS',\n",
       "       'ClaimPaidNoteAmount', 'isPrePost', 'COVID/NON COVID', 'ProductType'],\n",
       "      dtype='object')"
      ]
     },
     "execution_count": 168,
     "metadata": {},
     "output_type": "execute_result"
    }
   ],
   "source": [
    "df_23 = df_23.rename(columns={\"Product-2\":'ProductType'})\n",
    "df_23 = df_23.rename(columns={\"Primary Treatment Category\":'PrimaryTreatmentCategory'})\n",
    "df_23 = df_23.rename(columns={\"COVID/Non COVID\":'COVID/NON COVID'})\n",
    "df_23 = df_23.drop(columns='isPrepostMA')\n",
    "df_23.columns"
   ]
  },
  {
   "cell_type": "code",
   "execution_count": 169,
   "metadata": {},
   "outputs": [
    {
     "name": "stdout",
     "output_type": "stream",
     "text": [
      "1315 IP:  114051\n",
      "1315 MA:  34261\n",
      "1618 IP:  154508\n",
      "1618 MA:  60735\n",
      "19:  86196\n",
      "20:  67936\n",
      "21:  57281\n",
      "22:  82138\n",
      "23:  89663\n"
     ]
    }
   ],
   "source": [
    "print(\"1315 IP: \", len(df_1315_ip))\n",
    "print(\"1315 MA: \", len(df_1315_ma))\n",
    "\n",
    "print(\"1618 IP: \", len(df_1618_ip))\n",
    "print(\"1618 MA: \", len(df_1618_ma))\n",
    "\n",
    "print(\"19: \", len(df_19))\n",
    "print(\"20: \", len(df_20))\n",
    "print(\"21: \", len(df_21))\n",
    "print(\"22: \", len(df_22))\n",
    "print(\"23: \", len(df_23))"
   ]
  },
  {
   "cell_type": "code",
   "execution_count": 170,
   "metadata": {},
   "outputs": [
    {
     "data": {
      "text/plain": [
       "RangeIndex(start=0, stop=86196, step=1)"
      ]
     },
     "execution_count": 170,
     "metadata": {},
     "output_type": "execute_result"
    }
   ],
   "source": [
    "df_19.index"
   ]
  },
  {
   "cell_type": "code",
   "execution_count": 171,
   "metadata": {},
   "outputs": [
    {
     "data": {
      "text/plain": [
       "RangeIndex(start=0, stop=67936, step=1)"
      ]
     },
     "execution_count": 171,
     "metadata": {},
     "output_type": "execute_result"
    }
   ],
   "source": [
    "df_20.index"
   ]
  },
  {
   "cell_type": "code",
   "execution_count": 172,
   "metadata": {},
   "outputs": [
    {
     "data": {
      "text/plain": [
       "RangeIndex(start=0, stop=57281, step=1)"
      ]
     },
     "execution_count": 172,
     "metadata": {},
     "output_type": "execute_result"
    }
   ],
   "source": [
    "df_21.index"
   ]
  },
  {
   "cell_type": "code",
   "execution_count": 173,
   "metadata": {},
   "outputs": [
    {
     "data": {
      "text/plain": [
       "RangeIndex(start=0, stop=82138, step=1)"
      ]
     },
     "execution_count": 173,
     "metadata": {},
     "output_type": "execute_result"
    }
   ],
   "source": [
    "df_22.index"
   ]
  },
  {
   "cell_type": "code",
   "execution_count": 174,
   "metadata": {},
   "outputs": [
    {
     "data": {
      "text/plain": [
       "RangeIndex(start=0, stop=89663, step=1)"
      ]
     },
     "execution_count": 174,
     "metadata": {},
     "output_type": "execute_result"
    }
   ],
   "source": [
    "df_23.index"
   ]
  },
  {
   "cell_type": "code",
   "execution_count": 175,
   "metadata": {},
   "outputs": [],
   "source": [
    "# df_19 = df_19.reset_index(drop=True)\n",
    "# df_20 = df_20.reset_index(drop=True)\n",
    "# df_21 = df_21.reset_index(drop=True)\n",
    "# df_22 = df_22.reset_index(drop=True)\n",
    "# df_23 = df_23.reset_index(drop=True)"
   ]
  },
  {
   "cell_type": "code",
   "execution_count": 176,
   "metadata": {},
   "outputs": [],
   "source": [
    "selected_1923 = ['Date', 'ClaimNo', 'MemberNo', 'ClientName', \n",
    "                 'GROUP', 'ClaimType', 'TreatmentPlace', 'TreatmentRoomClass',\n",
    "                 'PrimaryDiagnosis', 'PrimaryTreatmentCategory', 'LOS',\n",
    "                 'ClaimPaidNoteAmount', 'isPrePost', 'ProductType']"
   ]
  },
  {
   "cell_type": "markdown",
   "metadata": {},
   "source": [
    "## Concat Data"
   ]
  },
  {
   "cell_type": "code",
   "execution_count": 190,
   "metadata": {},
   "outputs": [],
   "source": [
    "df_1315_full = pd.concat([df_1315_ip, df_1315_ma])\n",
    "df_1618_full = pd.concat([df_1618_ip, df_1618_ma])\n",
    "df_1923_full = pd.concat([df_19, df_20, df_21, df_22, df_23], ignore_index=True)"
   ]
  },
  {
   "cell_type": "code",
   "execution_count": 191,
   "metadata": {},
   "outputs": [
    {
     "name": "stdout",
     "output_type": "stream",
     "text": [
      "1315 Full:  148312\n",
      "1618 Full:  215243\n",
      "1923 Full:  383214\n"
     ]
    }
   ],
   "source": [
    "print(\"1315 Full: \", len(df_1315_full))\n",
    "print(\"1618 Full: \", len(df_1618_full))\n",
    "print(\"1923 Full: \", len(df_1923_full))"
   ]
  },
  {
   "cell_type": "code",
   "execution_count": 192,
   "metadata": {},
   "outputs": [],
   "source": [
    "df_1315_full['COVID/NON COVID'] = np.nan"
   ]
  },
  {
   "cell_type": "code",
   "execution_count": 193,
   "metadata": {},
   "outputs": [
    {
     "data": {
      "text/plain": [
       "Index(['Date', 'ClaimNo', 'MemberNo', 'ClientName', 'GROUP', 'ClaimType',\n",
       "       'TreatmentPlace', 'TreatmentRoomClass', 'RoomOption',\n",
       "       'PrimaryDiagnosis', 'LOS', 'ClaimPaidNoteAmount', 'isPrePost',\n",
       "       'ProductType', 'COVID/NON COVID'],\n",
       "      dtype='object')"
      ]
     },
     "execution_count": 193,
     "metadata": {},
     "output_type": "execute_result"
    }
   ],
   "source": [
    "df_1315_full.columns"
   ]
  },
  {
   "cell_type": "code",
   "execution_count": 194,
   "metadata": {},
   "outputs": [
    {
     "data": {
      "text/plain": [
       "Index(['Date', 'ClaimNo', 'MemberNo', 'ClientName', 'GROUP', 'ClaimType',\n",
       "       'TreatmentPlace', 'TreatmentRoomClass', 'RoomOption',\n",
       "       'PrimaryDiagnosis', 'PrimaryTreatmentCategory', 'LOS',\n",
       "       'ClaimPaidNoteAmount', 'isPrePost', 'ProductType', 'COVID/NON COVID'],\n",
       "      dtype='object')"
      ]
     },
     "execution_count": 194,
     "metadata": {},
     "output_type": "execute_result"
    }
   ],
   "source": [
    "df_1618_full['COVID/NON COVID'] = np.nan\n",
    "df_1618_full = df_1618_full.drop(columns='Unnamed: 0')\n",
    "df_1618_full.columns"
   ]
  },
  {
   "cell_type": "code",
   "execution_count": 195,
   "metadata": {},
   "outputs": [
    {
     "data": {
      "text/plain": [
       "Index(['Date', 'ClaimNo', 'MemberNo', 'ClientName', 'GROUP', 'ClaimType',\n",
       "       'TreatmentPlace', 'TreatmentRoomClass', 'RoomOption',\n",
       "       'PrimaryDiagnosis', 'PrimaryTreatmentCategory', 'LOS',\n",
       "       'ClaimPaidNoteAmount', 'isPrePost', 'ProductType', 'COVID/NON COVID'],\n",
       "      dtype='object')"
      ]
     },
     "execution_count": 195,
     "metadata": {},
     "output_type": "execute_result"
    }
   ],
   "source": [
    "df_1923_full.columns"
   ]
  },
  {
   "cell_type": "code",
   "execution_count": 197,
   "metadata": {},
   "outputs": [],
   "source": [
    "df_1323_full = pd.concat([df_1315_full, df_1618_full, df_1923_full])"
   ]
  },
  {
   "cell_type": "code",
   "execution_count": 198,
   "metadata": {},
   "outputs": [
    {
     "data": {
      "text/plain": [
       "(746769, 16)"
      ]
     },
     "execution_count": 198,
     "metadata": {},
     "output_type": "execute_result"
    }
   ],
   "source": [
    "df_1323_full.shape"
   ]
  }
 ],
 "metadata": {
  "kernelspec": {
   "display_name": "Python 3",
   "language": "python",
   "name": "python3"
  },
  "language_info": {
   "codemirror_mode": {
    "name": "ipython",
    "version": 3
   },
   "file_extension": ".py",
   "mimetype": "text/x-python",
   "name": "python",
   "nbconvert_exporter": "python",
   "pygments_lexer": "ipython3",
   "version": "3.9.13"
  }
 },
 "nbformat": 4,
 "nbformat_minor": 2
}
